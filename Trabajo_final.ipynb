{
  "nbformat": 4,
  "nbformat_minor": 0,
  "metadata": {
    "colab": {
      "name": "Trabajo final.ipynb",
      "provenance": [],
      "collapsed_sections": []
    },
    "kernelspec": {
      "name": "python3",
      "display_name": "Python 3"
    },
    "language_info": {
      "name": "python"
    }
  },
  "cells": [
    {
      "cell_type": "markdown",
      "metadata": {
        "id": "cQchtjwtu7B5"
      },
      "source": [
        "Importar librerías"
      ]
    },
    {
      "cell_type": "code",
      "metadata": {
        "id": "M4THOcmlu6l6"
      },
      "source": [
        "import numpy as np\n",
        "import matplotlib.pyplot as plt\n",
        "from sympy import *"
      ],
      "execution_count": 57,
      "outputs": []
    },
    {
      "cell_type": "markdown",
      "metadata": {
        "id": "i0PjyXp6rgj7"
      },
      "source": [
        "## Método de Bisección de Bolzano"
      ]
    },
    {
      "cell_type": "code",
      "metadata": {
        "id": "RnguL-DLmB5A"
      },
      "source": [
        "def biseccion(f, a, b, N):\n",
        "    # Si los signos son iguales, quiere decir que no hay una raíz en el\n",
        "    # intervalo\n",
        "    if np.sign(f(a)) == np.sign(f(b)):\n",
        "        raise Exception(\"El intervalo no contiene una raíz\")\n",
        "    \n",
        "    # El algoritmo se ejecuta iterativamente N veces\n",
        "    for n in range(N):\n",
        "        # Se calcula el punto medio del intervalo [a,b]\n",
        "        c = (a + b)/2\n",
        "\n",
        "        # Caso 1: Si f(a) y f(c) tienen signos iguales, quiere decir que\n",
        "        # hay un cero en el intervalo [c, b]\n",
        "        if np.sign(f(a)) == np.sign(f(c)):\n",
        "            # Se hace a = c para que en la siguiente iteración se tome el\n",
        "            # intervalo [c, b]\n",
        "            a = c\n",
        "            # b_1 = b_0\n",
        "            b = b\n",
        "        # Caso 2: Si f(b) y f(c) tienen signos iguales, quiere decir que\n",
        "        # hay un cero en el intervalo [a, c]\n",
        "        elif np.sign(f(b)) == np.sign(f(c)):\n",
        "            # a_1 = a_0\n",
        "            a = a\n",
        "            # Se hace b = c para que en la siguiente iteración se tome el\n",
        "            # intervalo [a, c]\n",
        "            b = c\n",
        "        # Caso 3: Si f(c) = 0, entonces se encontró la solución a la ecuación,\n",
        "        # por lo que se retorna inmediatamente c\n",
        "        elif f(c) == 0:\n",
        "            print(\"Solución encontrada después de {0} iteraciones:\".format(n))\n",
        "            return c\n",
        "        # Si no se cumple ninguna de las condiciones, quiere decir que algo\n",
        "        # falló\n",
        "        else:\n",
        "            raise Exception(\"Algo falló\")\n",
        "    # Al finalizar las N iteraciones, se retorna la aproximación de la solución\n",
        "    print(\"Solución aproximada:\")\n",
        "    return (a + b)/2"
      ],
      "execution_count": 100,
      "outputs": []
    },
    {
      "cell_type": "code",
      "metadata": {
        "colab": {
          "base_uri": "https://localhost:8080/",
          "height": 248
        },
        "id": "zgnb7Jed40T7",
        "outputId": "ef4543e1-1cb1-4ea6-a79c-8fb7ff2f046f"
      },
      "source": [
        "# Código tomado y modificado de: https://scriptverse.academy/tutorials/python-matplotlib-plot-function.html\n",
        "# para la gráfica de una función\n",
        "\n",
        "# 100 linearly spaced numbers\n",
        "x = np.linspace(-2,2,100)\n",
        "\n",
        "# the function, which is y = x^2 here\n",
        "y = x**3 - x**2 - 1\n",
        "\n",
        "# setting the axes at the centre\n",
        "fig = plt.figure()\n",
        "ax = fig.add_subplot(1, 1, 1)\n",
        "ax.spines['left'].set_position('center')\n",
        "ax.spines['bottom'].set_position('zero')\n",
        "ax.spines['right'].set_color('none')\n",
        "ax.spines['top'].set_color('none')\n",
        "ax.xaxis.set_ticks_position('bottom')\n",
        "ax.yaxis.set_ticks_position('left')\n",
        "\n",
        "# plot the function\n",
        "plt.plot(x,y, 'r')\n",
        "\n",
        "# show the plot\n",
        "plt.show()"
      ],
      "execution_count": 102,
      "outputs": [
        {
          "output_type": "display_data",
          "data": {
            "image/png": "[encoded data removed]",
            "text/plain": [
              "<Figure size 432x288 with 1 Axes>"
            ]
          },
          "metadata": {
            "tags": [],
            "needs_background": "light"
          }
        }
      ]
    },
    {
      "cell_type": "code",
      "metadata": {
        "colab": {
          "base_uri": "https://localhost:8080/"
        },
        "id": "OBRTj2z4mMzt",
        "outputId": "2ede20b4-6d50-4457-ab76-8e9af0e91474"
      },
      "source": [
        "# f(x) = x^2 - x - 1\n",
        "f = lambda x: x**3 - x**2 - 1\n",
        "\n",
        "print(\"5 iteraciones en [1, 2]:\")\n",
        "print(biseccion(f, 1, 2, 5))\n",
        "\n",
        "print(\"---------------------\")\n",
        "\n",
        "print(\"50 iteraciones en [1, 2]:\")\n",
        "print(biseccion(f, 1, 2, 50))"
      ],
      "execution_count": 101,
      "outputs": [
        {
          "output_type": "stream",
          "text": [
            "5 iteraciones en [1, 2]:\n",
            "Solución aproximada:\n",
            "1.453125\n",
            "---------------------\n",
            "50 iteraciones en [1, 2]:\n",
            "Solución aproximada:\n",
            "1.4655712318767677\n"
          ],
          "name": "stdout"
        }
      ]
    },
    {
      "cell_type": "markdown",
      "metadata": {
        "id": "G_rVsJUO7zJe"
      },
      "source": [
        "## Método de la Secante"
      ]
    },
    {
      "cell_type": "code",
      "metadata": {
        "id": "9d3UF7b69gYW"
      },
      "source": [
        "def secante(f, x0, x1, N):\n",
        "    # El algoritmo se ejecuta iterativamente N veces\n",
        "    for n in range(N):\n",
        "        # Si f(x1) = f(x2), quiere decir que ya se llegó a una solución\n",
        "        # (y para evitar la división sobre cero)\n",
        "        if f(x1) == f(x0):\n",
        "            print(\"Solución encontrada después de {0} iteraciones:\".format(n))\n",
        "            return x1\n",
        "        # Se calcula la aproximación a la raíz\n",
        "        x2 = x1 - f(x1) * (x1 - x0) / float(f(x1) - f(x0))\n",
        "        # Se reasignan las variables para la siguiente iteración\n",
        "        x0 = x1\n",
        "        x1 = x2\n",
        "        # Si f(x1) = 0, entonces se encontró la solución a la ecuación,\n",
        "        # por lo que se retorna inmediatamente c\n",
        "        if f(x1) == 0:\n",
        "            print(\"Solución encontrada después de {0} iteraciones:\".format(n))\n",
        "            return x1\n",
        "    # Al finalizar las N iteraciones, se retorna la aproximación de la solución\n",
        "    print(\"Solución aproximada:\")\n",
        "    return x1"
      ],
      "execution_count": 42,
      "outputs": []
    },
    {
      "cell_type": "code",
      "metadata": {
        "colab": {
          "base_uri": "https://localhost:8080/",
          "height": 248
        },
        "id": "VU1MVc1vUI5R",
        "outputId": "e3517136-4ffc-4f35-9fee-dd00d7c866b0"
      },
      "source": [
        "# Código tomado y modificado de: https://scriptverse.academy/tutorials/python-matplotlib-plot-function.html\n",
        "# para la gráfica de una función\n",
        "\n",
        "# 100 linearly spaced numbers\n",
        "x = np.linspace(-2,2,100)\n",
        "\n",
        "# the function, which is y = x^2 here\n",
        "y = x**3 - x**2 - 1\n",
        "\n",
        "# setting the axes at the centre\n",
        "fig = plt.figure()\n",
        "ax = fig.add_subplot(1, 1, 1)\n",
        "ax.spines['left'].set_position('center')\n",
        "ax.spines['bottom'].set_position('zero')\n",
        "ax.spines['right'].set_color('none')\n",
        "ax.spines['top'].set_color('none')\n",
        "ax.xaxis.set_ticks_position('bottom')\n",
        "ax.yaxis.set_ticks_position('left')\n",
        "\n",
        "# plot the function\n",
        "plt.plot(x,y, 'r')\n",
        "\n",
        "# show the plot\n",
        "plt.show()"
      ],
      "execution_count": null,
      "outputs": [
        {
          "output_type": "display_data",
          "data": {
            "image/png": "[encoded data removed]",
            "text/plain": [
              "<Figure size 432x288 with 1 Axes>"
            ]
          },
          "metadata": {
            "tags": [],
            "needs_background": "light"
          }
        }
      ]
    },
    {
      "cell_type": "code",
      "metadata": {
        "colab": {
          "base_uri": "https://localhost:8080/"
        },
        "id": "Xqjwt9SIAvZR",
        "outputId": "217b18a7-6cc8-456b-81c1-d7a5ff454080"
      },
      "source": [
        "# f(x) = x^3 - x^2 - 1\n",
        "g = lambda x: x**3 - x**2 - 1\n",
        "\n",
        "print(\"20 iteraciones en [1, 2] (intervalo que contiene la raíz):\")\n",
        "print(secante(g, 1, 2, 20))\n",
        "\n",
        "print(\"--------------------\")\n",
        "\n",
        "print(\"50 iteraciones en [2, 3] (intervalo que NO contiene la raíz):\")\n",
        "print(secante(g, 2, 3, 50))"
      ],
      "execution_count": 45,
      "outputs": [
        {
          "output_type": "stream",
          "text": [
            "20 iteraciones en [1, 2] (intervalo que contiene la raíz):\n",
            "Solución encontrada después de 10 iteraciones:\n",
            "1.4655712318767682\n",
            "--------------------\n",
            "50 iteraciones en [2, 3] (intervalo que NO contiene la raíz):\n",
            "Solución encontrada después de 11 iteraciones:\n",
            "1.4655712318767682\n"
          ],
          "name": "stdout"
        }
      ]
    },
    {
      "cell_type": "markdown",
      "metadata": {
        "id": "diiwGuKmdZHL"
      },
      "source": [
        "## Método de Newton-Raphson"
      ]
    },
    {
      "cell_type": "code",
      "metadata": {
        "id": "jn5Kfzrrdbxf"
      },
      "source": [
        "def newtonRaphson(x, f, df, N, tol = 1e-15):\n",
        "    # Si la derivada evaluada en x es 0, quiere decir que algo falló\n",
        "    if df(x) == 0:\n",
        "        raise Exception(\"La derivada de la función en x es 0. Algo falló.\")\n",
        "\n",
        "    # El algoritmo se ejecuta iterativamente N veces\n",
        "    for n in range(N):\n",
        "        # Se calcula la aproximación lineal\n",
        "        x = x - f(x)/df(x)\n",
        "        # Si la solución no converge exactamente a la raíz, entonces se\n",
        "        # proporciona un rango de tolerancia\n",
        "        if abs(f(x)) < tol:\n",
        "            print(\"Solución encontrada después de {0} iteraciones:\".format(n))\n",
        "            return x - f(x)/df(x)\n",
        "    # Al finalizar las N iteraciones, se retorna la aproximación de la solución\n",
        "    print(\"La solución aproximada es:\")\n",
        "    return x - f(x)/df(x)"
      ],
      "execution_count": 95,
      "outputs": []
    },
    {
      "cell_type": "code",
      "metadata": {
        "colab": {
          "base_uri": "https://localhost:8080/",
          "height": 248
        },
        "id": "j0HOOkVAxkGI",
        "outputId": "c67d7e96-44fb-496e-e972-7b97bf30dbdd"
      },
      "source": [
        "# Código tomado y modificado de: https://scriptverse.academy/tutorials/python-matplotlib-plot-function.html\n",
        "# para la gráfica de una función\n",
        "\n",
        "# 100 linearly spaced numbers\n",
        "x = np.linspace(-2,2,100)\n",
        "\n",
        "# the function, which is y = x^2 here\n",
        "y = x**3 - x**2 - 1\n",
        "\n",
        "# setting the axes at the centre\n",
        "fig = plt.figure()\n",
        "ax = fig.add_subplot(1, 1, 1)\n",
        "ax.spines['left'].set_position('center')\n",
        "ax.spines['bottom'].set_position('zero')\n",
        "ax.spines['right'].set_color('none')\n",
        "ax.spines['top'].set_color('none')\n",
        "ax.xaxis.set_ticks_position('bottom')\n",
        "ax.yaxis.set_ticks_position('left')\n",
        "\n",
        "# plot the function\n",
        "plt.plot(x,y, 'r')\n",
        "\n",
        "# show the plot\n",
        "plt.show()"
      ],
      "execution_count": 99,
      "outputs": [
        {
          "output_type": "display_data",
          "data": {
            "image/png": "[encoded data removed]",
            "text/plain": [
              "<Figure size 432x288 with 1 Axes>"
            ]
          },
          "metadata": {
            "tags": [],
            "needs_background": "light"
          }
        }
      ]
    },
    {
      "cell_type": "code",
      "metadata": {
        "colab": {
          "base_uri": "https://localhost:8080/"
        },
        "id": "6SK3t-RiqktI",
        "outputId": "c018aecf-2c56-484d-e1af-c7eea8d02f45"
      },
      "source": [
        "x = Symbol('x')\n",
        "\n",
        "# f(x) = x^3 - x^2 - 1\n",
        "h = x**3 - x**2 - 1\n",
        "\n",
        "# Se calcula la derivada de la función\n",
        "dh = lambdify(x, h.diff(x))\n",
        "h = lambdify(x, h)\n",
        "\n",
        "print(\"Estimación inicial x0 = 2 con 15 iteraciones\")\n",
        "print(newtonRaphson(2, h, dh, 15))\n",
        "\n",
        "print(\"-------------------------\")\n",
        "print(\"Estimación inicial x0 = 3 con 3 iteraciones\")\n",
        "print(newtonRaphson(3, h, dh, 3))"
      ],
      "execution_count": 103,
      "outputs": [
        {
          "output_type": "stream",
          "text": [
            "Estimación inicial x0 = 2 con 15 iteraciones\n",
            "Solución encontrada después de 5 iteraciones:\n",
            "1.4655712318767682\n",
            "-------------------------\n",
            "Estimación inicial x0 = 3 con 3 iteraciones\n",
            "La solución aproximada es:\n",
            "1.4675376279341459\n"
          ],
          "name": "stdout"
        }
      ]
    }
  ]
}